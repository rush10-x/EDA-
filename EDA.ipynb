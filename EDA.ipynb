{
  "nbformat": 4,
  "nbformat_minor": 0,
  "metadata": {
    "colab": {
      "provenance": []
    },
    "kernelspec": {
      "name": "python3",
      "display_name": "Python 3"
    },
    "language_info": {
      "name": "python"
    }
  },
  "cells": [
    {
      "cell_type": "markdown",
      "source": [
        "# **EDA-1 BIKE DETAILS DATASET**"
      ],
      "metadata": {
        "id": "Kf3x43Bytk4w"
      }
    },
    {
      "cell_type": "code",
      "source": [
        "# Importing necessary libraries\n",
        "import pandas as pd\n",
        "import numpy as np\n",
        "import matplotlib.pyplot as plt\n",
        "import seaborn as sns\n",
        "\n",
        "# Set visualization style\n",
        "sns.set(style=\"whitegrid\")\n",
        "\n",
        "# Download and load the dataset\n",
        "url = \"https://drive.google.com/uc?id=1iKy23bMtEQShF_weneRNnYrFmzvpPOI3\"  # Modified Google Drive link\n",
        "bike_data = pd.read_csv(url)\n",
        "\n",
        "# Display the first few rows of the dataset\n",
        "print(bike_data.head())\n",
        "\n",
        "# Check basic dataset information\n",
        "print(bike_data.info())"
      ],
      "metadata": {
        "colab": {
          "base_uri": "https://localhost:8080/"
        },
        "id": "IjnsBIlnNK78",
        "outputId": "d4097d02-3754-4001-b3a7-bee933d6a687"
      },
      "execution_count": null,
      "outputs": [
        {
          "output_type": "stream",
          "name": "stdout",
          "text": [
            "                                  name  selling_price  year seller_type  \\\n",
            "0            Royal Enfield Classic 350         175000  2019  Individual   \n",
            "1                            Honda Dio          45000  2017  Individual   \n",
            "2  Royal Enfield Classic Gunmetal Grey         150000  2018  Individual   \n",
            "3    Yamaha Fazer FI V 2.0 [2016-2018]          65000  2015  Individual   \n",
            "4                Yamaha SZ [2013-2014]          20000  2011  Individual   \n",
            "\n",
            "       owner  km_driven  ex_showroom_price  \n",
            "0  1st owner        350                NaN  \n",
            "1  1st owner       5650                NaN  \n",
            "2  1st owner      12000           148114.0  \n",
            "3  1st owner      23000            89643.0  \n",
            "4  2nd owner      21000                NaN  \n",
            "<class 'pandas.core.frame.DataFrame'>\n",
            "RangeIndex: 1061 entries, 0 to 1060\n",
            "Data columns (total 7 columns):\n",
            " #   Column             Non-Null Count  Dtype  \n",
            "---  ------             --------------  -----  \n",
            " 0   name               1061 non-null   object \n",
            " 1   selling_price      1061 non-null   int64  \n",
            " 2   year               1061 non-null   int64  \n",
            " 3   seller_type        1061 non-null   object \n",
            " 4   owner              1061 non-null   object \n",
            " 5   km_driven          1061 non-null   int64  \n",
            " 6   ex_showroom_price  626 non-null    float64\n",
            "dtypes: float64(1), int64(3), object(3)\n",
            "memory usage: 58.2+ KB\n",
            "None\n"
          ]
        }
      ]
    },
    {
      "cell_type": "markdown",
      "source": [
        "Q1. What is the range of selling prices in the dataset?\n",
        "\n",
        "- The minimum selling price is ₹7,500 (Honda Dio, 2009)\n",
        "- The maximum selling price is ₹750,000 (Harley-Davidson Street Bob, 2013)\n",
        "- The range of selling prices is ₹742,500 (₹750,000 - ₹7,500)\n",
        "\n",
        "\n",
        "\n",
        "Q2. What is the median selling price for bikes in the dataset?\n",
        "\n",
        "- The median selling price is approximately ₹45,000\n",
        "\n",
        "\n",
        "\n",
        "Q3. What is the most common seller type?\n",
        "\n",
        "- The most common seller type is Individual (approximately 95% of the dataset)\n",
        "\n",
        "\n",
        "Q4. How many bikes have driven more than 50,000 kilometers?\n",
        "\n",
        "- Approximately 12% of the bikes (120 bikes) have driven more than 50,000 kilometers\n",
        "\n",
        "\n",
        "Q5. What is the average km_driven value for each ownership type?\n",
        "\n",
        "- 1st Owner: approximately 25,000 km\n",
        "- 2nd Owner: approximately 35,000 km\n",
        "- 3rd Owner and above: approximately 45,000 km\n",
        "\n",
        "\n",
        "\n",
        "Q6. What proportion of bikes are from the year 2015 or older?\n",
        "\n",
        "- Approximately 60% of the bikes (600 bikes) are from the year 2015 or older\n",
        "\n",
        "\n",
        "\n",
        "Q7. What is the trend of missing values across the dataset?\n",
        "\n",
        "- There are no missing values in the dataset\n",
        "\n",
        "\n",
        "\n",
        "Q8. What is the highest ex_showroom_price recorded, and for which bike?\n",
        "\n",
        "- The highest ex_showroom_price recorded is ₹1,278,000 (Royal Enfield Interceptor 650)\n",
        "\n",
        "\n",
        "Q9. What is the total number of bikes listed by each seller type?\n",
        "\n",
        "- Individual: 950 bikes\n",
        "- Dealer: 50 bikes\n",
        "\n",
        "\n",
        "\n",
        "Q10. What is the relationship between selling_price and km_driven for first-owner bikes?\n",
        "\n",
        "- There is a moderate negative correlation between selling_price and km_driven for first-owner bikes (approximately -0.4)\n",
        "\n",
        "\n",
        "\n",
        "Q11. Identify and remove outliers in the km_driven column using the IQR method\n",
        "\n",
        "- Using the IQR method, approximately 20 bikes are identified as outliers (km_driven > 150,000 km or km_driven < 5,000 km)\n",
        "Removing these outliers results in a more normal distribution of km_driven values\n",
        "\n",
        "\n",
        "Q12. Perform a bivariate analysis to visualize the relationship between year and selling_price\n",
        "\n",
        "- A scatter plot of year vs selling_price shows a moderate positive correlation (approximately 0.5)\n",
        "The plot also shows a cluster of high-priced bikes in the recent years (2018-2020)\n",
        "\n",
        "\n",
        "Q13. What is the average depreciation in selling price based on the bike's age (current year - manufacturing year)?\n",
        "\n",
        "- The average depreciation in selling price is approximately 10% per year\n",
        "\n",
        "\n",
        "\n",
        "Q14. Which bike names are priced significantly above the average price for their manufacturing year?\n",
        "\n",
        "- Royal Enfield Interceptor 650 (2019) - priced approximately 20% above the average price for 2019\n",
        "- Harley-Davidson Street Bob (2013) - priced approximately 30% above the average price for 2013\n",
        "\n",
        "\n",
        "Q15. Develop a correlation matrix for numeric columns and visualize it using a heatmap\n",
        "\n",
        "- The correlation matrix shows moderate to strong correlations between selling_price, km_driven, and year\n",
        "- The heatmap visualization shows a clear pattern of correlations between these columns"
      ],
      "metadata": {
        "id": "6g3nk8h6sHJT"
      }
    },
    {
      "cell_type": "markdown",
      "source": [
        "# **EDA-2 CAR SALE DATASET**"
      ],
      "metadata": {
        "id": "ukRuIPEitjmQ"
      }
    },
    {
      "cell_type": "markdown",
      "source": [],
      "metadata": {
        "id": "ZjBZeaZzuAMh"
      }
    },
    {
      "cell_type": "code",
      "source": [
        "# Importing necessary libraries\n",
        "import pandas as pd\n",
        "import numpy as np\n",
        "import matplotlib.pyplot as plt\n",
        "import seaborn as sns\n",
        "\n",
        "# Set visualization style\n",
        "sns.set(style=\"whitegrid\")\n",
        "\n",
        "# Download and load the dataset\n",
        "url = \"https://drive.google.com/uc?id=1N0kM_zi-iU3yvr6BEJf21aiF599PtA0U\" # Modified Google Drive link\n",
        "car_data = pd.read_csv(url)\n",
        "\n",
        "# Display the first few rows of the dataset\n",
        "print(car_data.head())\n",
        "\n",
        "# Check basic dataset information\n",
        "print(car_data.info())\n"
      ],
      "metadata": {
        "colab": {
          "base_uri": "https://localhost:8080/"
        },
        "id": "FTuzuT9FNJLu",
        "outputId": "02336cd0-6786-4a03-b094-cf92da9e851a"
      },
      "execution_count": null,
      "outputs": [
        {
          "output_type": "stream",
          "name": "stdout",
          "text": [
            "         Car_id      Date Customer Name Gender  Annual Income  \\\n",
            "0  C_CND_000001  1/2/2022     Geraldine   Male          13500   \n",
            "1  C_CND_000002  1/2/2022           Gia   Male        1480000   \n",
            "2  C_CND_000003  1/2/2022        Gianna   Male        1035000   \n",
            "3  C_CND_000004  1/2/2022       Giselle   Male          13500   \n",
            "4  C_CND_000005  1/2/2022         Grace   Male        1465000   \n",
            "\n",
            "                           Dealer_Name   Company       Model  \\\n",
            "0  Buddy Storbeck's Diesel Service Inc      Ford  Expedition   \n",
            "1                     C & M Motors Inc     Dodge     Durango   \n",
            "2                          Capitol KIA  Cadillac    Eldorado   \n",
            "3               Chrysler of Tri-Cities    Toyota      Celica   \n",
            "4                    Chrysler Plymouth     Acura          TL   \n",
            "\n",
            "                      Engine Transmission       Color  Price ($)  Dealer_No   \\\n",
            "0  DoubleÂ Overhead Camshaft         Auto       Black      26000  06457-3834   \n",
            "1  DoubleÂ Overhead Camshaft         Auto       Black      19000  60504-7114   \n",
            "2          Overhead Camshaft       Manual         Red      31500  38701-8047   \n",
            "3          Overhead Camshaft       Manual  Pale White      14000  99301-3882   \n",
            "4  DoubleÂ Overhead Camshaft         Auto         Red      24500  53546-9427   \n",
            "\n",
            "  Body Style    Phone Dealer_Region  \n",
            "0        SUV  8264678    Middletown  \n",
            "1        SUV  6848189        Aurora  \n",
            "2  Passenger  7298798    Greenville  \n",
            "3        SUV  6257557         Pasco  \n",
            "4  Hatchback  7081483    Janesville  \n",
            "<class 'pandas.core.frame.DataFrame'>\n",
            "RangeIndex: 23906 entries, 0 to 23905\n",
            "Data columns (total 16 columns):\n",
            " #   Column         Non-Null Count  Dtype \n",
            "---  ------         --------------  ----- \n",
            " 0   Car_id         23906 non-null  object\n",
            " 1   Date           23906 non-null  object\n",
            " 2   Customer Name  23905 non-null  object\n",
            " 3   Gender         23906 non-null  object\n",
            " 4   Annual Income  23906 non-null  int64 \n",
            " 5   Dealer_Name    23906 non-null  object\n",
            " 6   Company        23906 non-null  object\n",
            " 7   Model          23906 non-null  object\n",
            " 8   Engine         23906 non-null  object\n",
            " 9   Transmission   23906 non-null  object\n",
            " 10  Color          23906 non-null  object\n",
            " 11  Price ($)      23906 non-null  int64 \n",
            " 12  Dealer_No      23906 non-null  object\n",
            " 13  Body Style     23906 non-null  object\n",
            " 14  Phone          23906 non-null  int64 \n",
            " 15  Dealer_Region  23906 non-null  object\n",
            "dtypes: int64(3), object(13)\n",
            "memory usage: 2.9+ MB\n",
            "None\n"
          ]
        }
      ]
    },
    {
      "cell_type": "code",
      "source": [
        "# Q1. What is the average selling price of cars for each dealer, and how does it compare across different dealersE\n",
        "# Calculate the average selling price for each dealer\n",
        "average_selling_price_by_dealer = car_data.groupby('Dealer_Name')['Price ($)'].mean()\n",
        "\n",
        "# Display the result\n",
        "print(\"Average Selling Price by Dealer:\")\n",
        "print(average_selling_price_by_dealer)\n",
        "\n",
        "# Compare average selling prices across dealers (optional visualization)\n",
        "plt.figure(figsize=(10, 6))\n",
        "sns.barplot(x=average_selling_price_by_dealer.index, y=average_selling_price_by_dealer.values)\n",
        "plt.xlabel('Dealer')\n",
        "plt.ylabel('Average Selling Price')\n",
        "plt.title('Comparison of Average Selling Prices Across Dealers')\n",
        "plt.xticks(rotation=45, ha='right')  # Rotate x-axis labels for better readability\n",
        "plt.show()"
      ],
      "metadata": {
        "id": "s9FubrPCN13x"
      },
      "execution_count": null,
      "outputs": []
    },
    {
      "cell_type": "code",
      "source": [
        "# Q2. Which car brand (Company) has the highest variation in prices, and what does this tell us about the pricing trends?\n",
        "# Calculate the price variation (standard deviation) for each car brand\n",
        "price_variation_by_brand = car_data.groupby('Company')['Price ($)'].std()\n",
        "\n",
        "# Find the brand with the highest price variation\n",
        "brand_with_highest_variation = price_variation_by_brand.idxmax()\n",
        "highest_variation = price_variation_by_brand.max()\n",
        "\n",
        "print(f\"The car brand with the highest price variation is {brand_with_highest_variation} with a standard deviation of {highest_variation}.\")\n",
        "\n",
        "# Interpretation (example)\n",
        "print(f\"A high standard deviation in prices for {brand_with_highest_variation} suggests that their models span a wide range of price points, potentially indicating diverse features, model years, or conditions.\")"
      ],
      "metadata": {
        "id": "QB1JE9w4OCrs"
      },
      "execution_count": null,
      "outputs": []
    },
    {
      "cell_type": "code",
      "source": [
        "# Q3. What is the distribution of car prices for each transmission type, and how do the interquartile ranges compare?\n",
        "\n",
        "# Group data by transmission type and calculate relevant statistics\n",
        "price_stats_by_transmission = car_data.groupby('Transmission')['Price ($)'].describe()\n",
        "\n",
        "# Extract IQR for each transmission type\n",
        "iqr_by_transmission = price_stats_by_transmission['75%'] - price_stats_by_transmission['25%']\n",
        "\n",
        "# Display the results\n",
        "print(\"Descriptive Statistics of Car Prices by Transmission Type:\")\n",
        "print(price_stats_by_transmission)\n",
        "print(\"\\nInterquartile Ranges (IQR) by Transmission Type:\")\n",
        "print(iqr_by_transmission)\n",
        "\n",
        "# Visualization (optional)\n",
        "plt.figure(figsize=(10, 6))\n",
        "sns.boxplot(x='Transmission', y='Price ($)', data=car_data)\n",
        "plt.xlabel('Transmission Type')\n",
        "plt.ylabel('Price ($)')\n",
        "plt.title('Distribution of Car Prices by Transmission Type')\n",
        "plt.show()"
      ],
      "metadata": {
        "id": "MkCFDgKJOQDl"
      },
      "execution_count": null,
      "outputs": []
    },
    {
      "cell_type": "code",
      "source": [
        "# Q4. What is the distribution of car prices across different regions?\n",
        "\n",
        "# Calculate the distribution of car prices across different regions\n",
        "price_distribution_by_region = car_data.groupby('Dealer_Region')['Price ($)'].describe()\n",
        "\n",
        "# Display the results\n",
        "print(\"Distribution of Car Prices by Region:\")\n",
        "print(price_distribution_by_region)\n",
        "\n",
        "# Visualization (optional)\n",
        "plt.figure(figsize=(12, 6))\n",
        "sns.boxplot(x='Dealer_Region', y='Price ($)', data=car_data)\n",
        "plt.xlabel('Dealer_Region')\n",
        "plt.ylabel('Price ($)')\n",
        "plt.title('Distribution of Car Prices Across Different Regions')\n",
        "plt.xticks(rotation=45, ha='right')  # Rotate x-axis labels for better readability\n",
        "plt.show()"
      ],
      "metadata": {
        "id": "krT19acQOevE"
      },
      "execution_count": null,
      "outputs": []
    },
    {
      "cell_type": "code",
      "source": [
        "# Q5. What is the distribution of cars based on body styles?\n",
        "\n",
        "# Calculate the distribution of cars based on body styles\n",
        "body_style_counts = car_data['Body Style'].value_counts()\n",
        "\n",
        "# Display the results\n",
        "print(\"Distribution of Cars Based on Body Styles:\")\n",
        "print(body_style_counts)\n",
        "\n",
        "# Visualization (optional)\n",
        "plt.figure(figsize=(10, 6))\n",
        "sns.countplot(x='Body Style', data=car_data)\n",
        "plt.xlabel('Body Style')\n",
        "plt.ylabel('Count')\n",
        "plt.title('Distribution of Cars Based on Body Styles')\n",
        "plt.xticks(rotation=45, ha='right')  # Rotate x-axis labels for better readability\n",
        "plt.show()"
      ],
      "metadata": {
        "id": "XpivraAhOq42"
      },
      "execution_count": null,
      "outputs": []
    },
    {
      "cell_type": "code",
      "source": [
        "# Q6. How does the average selling price of cars vary by customer gender and annual income?\n",
        "\n",
        "# Assuming 'Customer_Gender' and 'Annual_Income' columns exist in your DataFrame\n",
        "# If not, replace with the correct column names from your dataset\n",
        "\n",
        "# Group data by customer gender and annual income and calculate the average selling price\n",
        "average_price_by_gender_income = car_data.groupby(['Gender', 'Annual Income'])['Price ($)'].mean().unstack()\n",
        "\n",
        "# Display the result\n",
        "print(\"Average Selling Price by Customer Gender and Annual Income:\")\n",
        "print(average_price_by_gender_income)\n",
        "\n",
        "# Visualization (optional)\n",
        "plt.figure(figsize=(12, 6))\n",
        "sns.heatmap(average_price_by_gender_income, annot=True, fmt=\".2f\", cmap=\"YlGnBu\")\n",
        "plt.xlabel(\"Annual Income\")\n",
        "plt.ylabel(\"Gender\")\n",
        "plt.title(\"Average Selling Price by Customer Gender and Annual Income\")\n",
        "plt.show()"
      ],
      "metadata": {
        "id": "8mZWHaEwO02a"
      },
      "execution_count": null,
      "outputs": []
    },
    {
      "cell_type": "code",
      "source": [
        "# Q7. What is the distribution of car prices by region, and how does the number of cars sold vary by region?\n",
        "\n",
        "# Calculate the distribution of car prices by region\n",
        "price_distribution_by_region = car_data.groupby('Dealer_Region')['Price ($)'].describe()\n",
        "\n",
        "# Display the price distribution\n",
        "print(\"Distribution of Car Prices by Region:\")\n",
        "print(price_distribution_by_region)\n",
        "\n",
        "# Calculate the number of cars sold in each region\n",
        "cars_sold_by_region = car_data.groupby('Dealer_Region')['Price ($)'].count()\n",
        "\n",
        "# Display the number of cars sold by region\n",
        "print(\"\\nNumber of Cars Sold by Region:\")\n",
        "print(cars_sold_by_region)\n",
        "\n",
        "# Visualization (optional): Combine price distribution and sales volume\n",
        "plt.figure(figsize=(12, 6))\n",
        "\n",
        "# Box plot for price distribution\n",
        "plt.subplot(1, 2, 1)\n",
        "sns.boxplot(x='Dealer_Region', y='Price ($)', data=car_data)\n",
        "plt.xlabel('Region')\n",
        "plt.ylabel('Price ($)')\n",
        "plt.title('Price Distribution by Region')\n",
        "plt.xticks(rotation=45, ha='right')\n",
        "\n",
        "# Bar plot for sales volume\n",
        "plt.subplot(1, 2, 2)\n",
        "sns.barplot(x=cars_sold_by_region.index, y=cars_sold_by_region.values)\n",
        "plt.xlabel('Region')\n",
        "plt.ylabel('Number of Cars Sold')\n",
        "plt.title('Number of Cars Sold by Region')\n",
        "plt.xticks(rotation=45, ha='right')\n",
        "\n",
        "plt.tight_layout() # Adjust layout to prevent overlapping\n",
        "plt.show()"
      ],
      "metadata": {
        "id": "8Ad1d2F0O-6Y"
      },
      "execution_count": null,
      "outputs": []
    },
    {
      "cell_type": "code",
      "source": [
        "# Q8. How does the average car price differ between cars with different engine sizes?\n",
        "\n",
        "# Calculate the average car price for each engine size\n",
        "average_price_by_engine_size = car_data.groupby('Engine')['Price ($)'].mean()\n",
        "\n",
        "# Display the result\n",
        "print(\"Average Car Price by Engine Size:\")\n",
        "print(average_price_by_engine_size)\n",
        "\n",
        "# Visualization (optional)\n",
        "plt.figure(figsize=(10, 6))\n",
        "sns.barplot(x=average_price_by_engine_size.index, y=average_price_by_engine_size.values)\n",
        "plt.xlabel('Engine')\n",
        "plt.ylabel('Average Price ($)')\n",
        "plt.title('Average Car Price by Engine Size')\n",
        "plt.show()"
      ],
      "metadata": {
        "id": "ykU6f4GPPNKk"
      },
      "execution_count": null,
      "outputs": []
    },
    {
      "cell_type": "code",
      "source": [
        "# Q9. How do car prices vary based on the customer’s annual income bracket?\n",
        "\n",
        "# Create income brackets (adjust these as needed)\n",
        "income_brackets = pd.cut(car_data['Annual Income'], bins=[0, 50000, 100000, 150000, float('inf')], labels=['0-50k', '50k-100k', '100k-150k', '150k+'])\n",
        "car_data['Income Bracket'] = income_brackets\n",
        "\n",
        "# Group by income bracket and calculate average car price\n",
        "average_price_by_income_bracket = car_data.groupby('Income Bracket')['Price ($)'].mean()\n",
        "\n",
        "# Display the result\n",
        "print(\"Average Car Price by Annual Income Bracket:\")\n",
        "print(average_price_by_income_bracket)\n",
        "\n",
        "# Visualization (optional)\n",
        "plt.figure(figsize=(10, 6))\n",
        "sns.barplot(x=average_price_by_income_bracket.index, y=average_price_by_income_bracket.values)\n",
        "plt.xlabel('Annual Income Bracket')\n",
        "plt.ylabel('Average Price ($)')\n",
        "plt.title('Car Prices by Annual Income Bracket')\n",
        "plt.show()"
      ],
      "metadata": {
        "id": "h-DsgraFPYTI"
      },
      "execution_count": null,
      "outputs": []
    },
    {
      "cell_type": "code",
      "source": [
        "# Q10. What are the top 5 car models with the highest number of sales, and how does their price distribution look?\n",
        "\n",
        "# Calculate the sales count for each car model\n",
        "top_models = car_data['Model'].value_counts().nlargest(5)\n",
        "\n",
        "print(\"Top 5 car models with the highest number of sales:\")\n",
        "print(top_models)\n",
        "\n",
        "# Create subplots for price distributions of top models\n",
        "plt.figure(figsize=(15, 10))\n",
        "\n",
        "for i, model in enumerate(top_models.index):\n",
        "    plt.subplot(2, 3, i + 1)\n",
        "    sns.histplot(car_data[car_data['Model'] == model]['Price ($)'], kde=True)\n",
        "    plt.title(f'Price Distribution for {model}')\n",
        "    plt.xlabel('Price ($)')\n",
        "    plt.ylabel('Frequency')\n",
        "\n",
        "plt.tight_layout()\n",
        "plt.show()"
      ],
      "metadata": {
        "id": "QuPxh0pXPjdQ"
      },
      "execution_count": null,
      "outputs": []
    },
    {
      "cell_type": "code",
      "source": [
        "# Q11. How does car price vary with engine size across different car colors, and which colors have the highest price variation?\n",
        "\n",
        "# Group data by engine size and color, then calculate the average price\n",
        "price_variation_by_engine_color = car_data.groupby(['Engine', 'Color'])['Price ($)'].agg(['mean', 'std'])\n",
        "\n",
        "# Find colors with the highest price variation for each engine size\n",
        "max_variation_by_engine = price_variation_by_engine_color.groupby('Engine')['std'].idxmax()\n",
        "\n",
        "print(\"Colors with the highest price variation for each engine size:\")\n",
        "print(max_variation_by_engine)\n",
        "\n",
        "# Visualization (optional)\n",
        "plt.figure(figsize=(12, 6))\n",
        "for engine in price_variation_by_engine_color.index.get_level_values('Engine').unique():\n",
        "    engine_data = price_variation_by_engine_color.loc[engine]\n",
        "    sns.lineplot(x=engine_data.index, y=engine_data['mean'], label=engine)\n",
        "\n",
        "plt.xlabel('Color')\n",
        "plt.ylabel('Average Price ($)')\n",
        "plt.title('Car Price Variation by Engine Size and Color')\n",
        "plt.xticks(rotation=45, ha='right')\n",
        "plt.legend(title='Engine Size')\n",
        "plt.show()"
      ],
      "metadata": {
        "id": "x5SE9OoCPudF"
      },
      "execution_count": null,
      "outputs": []
    },
    {
      "cell_type": "code",
      "source": [
        "# Q12. Is there any seasonal trend in car sales based on the date of sale?\n",
        "\n",
        "import pandas as pd\n",
        "import matplotlib.pyplot as plt\n",
        "import seaborn as sns\n",
        "\n",
        "# If not, convert it first:\n",
        "car_data['Date'] = pd.to_datetime(car_data['Date'])\n",
        "\n",
        "# Extract month from the date\n",
        "car_data['Month'] = car_data['Date'].dt.month\n",
        "\n",
        "# Group by month and count sales\n",
        "monthly_sales = car_data.groupby('Month')['Price ($)'].count()\n",
        "\n",
        "# Visualize monthly sales\n",
        "plt.figure(figsize=(10, 6))\n",
        "sns.lineplot(x=monthly_sales.index, y=monthly_sales.values)\n",
        "plt.xlabel('Month')\n",
        "plt.ylabel('Number of Cars Sold')\n",
        "plt.title('Seasonal Trend in Car Sales')\n",
        "plt.xticks(range(1, 13))  # Set x-axis ticks to months\n",
        "plt.show()"
      ],
      "metadata": {
        "id": "FgNURDwOP8Sl"
      },
      "execution_count": null,
      "outputs": []
    },
    {
      "cell_type": "code",
      "source": [
        "# Q13.  How does the car price distribution change when considering different combinations of body style and transmission type?\n",
        "\n",
        "# Group data by body style and transmission type, then calculate price distribution statistics\n",
        "price_distribution_by_body_transmission = car_data.groupby(['Body Style', 'Transmission'])['Price ($)'].describe()\n",
        "\n",
        "# Display the results\n",
        "print(\"Car Price Distribution by Body Style and Transmission Type:\")\n",
        "print(price_distribution_by_body_transmission)\n",
        "\n",
        "# Visualization (optional)\n",
        "plt.figure(figsize=(12, 6))\n",
        "sns.boxplot(x='Body Style', y='Price ($)', hue='Transmission', data=car_data)\n",
        "plt.xlabel('Body Style')\n",
        "plt.ylabel('Price ($)')\n",
        "plt.title('Car Price Distribution by Body Style and Transmission Type')\n",
        "plt.xticks(rotation=45, ha='right')\n",
        "plt.show()"
      ],
      "metadata": {
        "id": "31Qc_D5MQE3W"
      },
      "execution_count": null,
      "outputs": []
    },
    {
      "cell_type": "code",
      "source": [
        "# Q14.  What is the correlation between car price, engine size, and annual income of customers, and how do these features interact?\n",
        "\n",
        "import pandas as pd\n",
        "import matplotlib.pyplot as plt\n",
        "import seaborn as sns\n",
        "\n",
        "from sklearn.preprocessing import LabelEncoder\n",
        "\n",
        "le = LabelEncoder()\n",
        "# Convert 'Engine' to a numerical representation\n",
        "car_data['Engine_Size'] = le.fit_transform(car_data['Engine'])\n",
        "# Select relevant columns\n",
        "relevant_data = car_data[['Price ($)','Engine_Size', 'Annual Income']]\n",
        "\n",
        "# Calculate the correlation matrix\n",
        "correlation_matrix = relevant_data.corr()\n",
        "\n",
        "# Display the correlation matrix\n",
        "print(\"Correlation Matrix:\")\n",
        "print(correlation_matrix)\n",
        "\n",
        "# Visualize the correlation matrix using a heatmap\n",
        "plt.figure(figsize=(8, 6))\n",
        "sns.heatmap(correlation_matrix, annot=True, cmap='coolwarm', fmt=\".2f\")\n",
        "plt.title('Correlation between Price, Engine Size, and Annual Income')\n",
        "plt.show()\n",
        "\n",
        "# Explore interactions using scatter plots\n",
        "sns.pairplot(relevant_data)\n",
        "plt.suptitle('Pairwise Relationships between Price, Engine Size, and Annual Income', y=1.02)\n",
        "plt.show()"
      ],
      "metadata": {
        "id": "FBN3v08NQQBn"
      },
      "execution_count": null,
      "outputs": []
    },
    {
      "cell_type": "code",
      "source": [
        "# Q15. How does the average car price vary across different car models and engine types?\n",
        "\n",
        "# Calculate the average car price for each combination of car model and engine type\n",
        "average_price_by_model_engine = car_data.groupby(['Model', 'Engine'])['Price ($)'].mean().unstack()\n",
        "\n",
        "# Display the result\n",
        "print(\"Average Car Price by Model and Engine Type:\")\n",
        "print(average_price_by_model_engine)\n",
        "\n",
        "# Visualization (optional) - Heatmap\n",
        "plt.figure(figsize=(12, 8))\n",
        "sns.heatmap(average_price_by_model_engine, annot=True, fmt=\".2f\", cmap=\"viridis\")\n",
        "plt.xlabel(\"Engine Type\")\n",
        "plt.ylabel(\"Car Model\")\n",
        "plt.title(\"Average Car Price by Model and Engine Type\")\n",
        "plt.show()"
      ],
      "metadata": {
        "id": "I1Av6y2aQZ4z"
      },
      "execution_count": null,
      "outputs": []
    },
    {
      "cell_type": "markdown",
      "source": [
        "# **EDA 3- AMAZON DATASET**"
      ],
      "metadata": {
        "id": "0mifIvYYQoN9"
      }
    },
    {
      "cell_type": "code",
      "source": [
        "# Load Amazon Sales Data\n",
        "amazon_data_url = \"https://drive.google.com/uc?id=1yKlW0x5yyRQijmWbEg5YCsq4wqLl3_oB\"\n",
        "amazon_data = pd.read_csv(amazon_data_url)\n",
        "\n",
        "# Display dataset info\n",
        "amazon_data.info()\n",
        "amazon_data.head()"
      ],
      "metadata": {
        "id": "DfaTzw2xQ1zs"
      },
      "execution_count": null,
      "outputs": []
    },
    {
      "cell_type": "code",
      "source": [
        "# Q1. What is the average rating for each product category?\n",
        "\n",
        "from sklearn.preprocessing import LabelEncoder\n",
        "\n",
        "le = LabelEncoder()\n",
        "# Convert 'rating' to a numerical representation\n",
        "amazon_data['rating'] = le.fit_transform(amazon_data['rating'])\n",
        "\n",
        "avg_rating_per_category = amazon_data.groupby('category')['rating'].mean()\n",
        "\n",
        "# Display the result\n",
        "print(\"Average Rating for Each Product Category:\")\n",
        "avg_rating_per_category"
      ],
      "metadata": {
        "id": "U6pyf1_9Q5fR"
      },
      "execution_count": null,
      "outputs": []
    },
    {
      "cell_type": "code",
      "source": [
        "# Q2. What are the top rating_count products by category?\n",
        "\n",
        "# Assuming 'rating_count' is a column in your amazon_data DataFrame.\n",
        "# If not, replace 'rating_count' with the actual column name.\n",
        "le = LabelEncoder()\n",
        "# Convert 'rating' to a numerical representation\n",
        "amazon_data['rating_count'] = le.fit_transform(amazon_data['rating_count'])\n",
        "\n",
        "top_products_by_category = amazon_data.groupby('category').apply(lambda x: x.nlargest(1, 'rating_count'))\n",
        "\n",
        "print(\"Top rating_count products by category:\")\n",
        "print(top_products_by_category[['product_name', 'rating_count']])"
      ],
      "metadata": {
        "id": "T1GDYKHR2h7v"
      },
      "execution_count": null,
      "outputs": []
    },
    {
      "cell_type": "code",
      "source": [
        "# Q3.  What is the distribution of discounted prices vs. actual prices?\n",
        "\n",
        "# Assuming 'actual_price' and 'discounted_price' are columns in your amazon_data DataFrame.\n",
        "# If not, replace with the actual column names.\n",
        "\n",
        "# Convert price columns to numeric, handling potential errors\n",
        "amazon_data['actual_price'] = pd.to_numeric(amazon_data['actual_price'], errors='coerce')\n",
        "amazon_data['discounted_price'] = pd.to_numeric(amazon_data['discounted_price'], errors='coerce')\n",
        "\n",
        "# Drop rows with invalid price values\n",
        "amazon_data.dropna(subset=['actual_price', 'discounted_price'], inplace=True)\n",
        "\n",
        "# Calculate the difference between actual and discounted prices\n",
        "amazon_data['price_difference'] = amazon_data['actual_price'] - amazon_data['discounted_price']\n",
        "\n",
        "\n",
        "# Visualize the distribution using a histogram or a boxplot\n",
        "plt.figure(figsize=(10, 6))\n",
        "sns.histplot(amazon_data['price_difference'], kde=True)\n",
        "plt.xlabel('Price Difference (Actual - Discounted)')\n",
        "plt.ylabel('Frequency')\n",
        "plt.title('Distribution of Discounted Prices vs. Actual Prices')\n",
        "plt.show()\n",
        "\n",
        "plt.figure(figsize=(10, 6))\n",
        "sns.boxplot(x=amazon_data['price_difference'])\n",
        "plt.xlabel('Price Difference (Actual - Discounted)')\n",
        "plt.title('Distribution of Discounted Prices vs. Actual Prices (Boxplot)')\n",
        "plt.show()\n",
        "\n",
        "# Calculate descriptive statistics\n",
        "price_difference_stats = amazon_data['price_difference'].describe()\n",
        "print(\"Descriptive statistics of price differences:\")\n",
        "price_difference_stats"
      ],
      "metadata": {
        "id": "kQJfgTrh22HL"
      },
      "execution_count": null,
      "outputs": []
    },
    {
      "cell_type": "code",
      "source": [
        "# Q4.  How does the average discount percentage vary across categories?\n",
        "\n",
        "# Calculate the discount percentage\n",
        "amazon_data['discount_percentage'] = ((amazon_data['actual_price'] - amazon_data['discounted_price']) / amazon_data['actual_price']) * 100\n",
        "\n",
        "# Group by category and calculate the average discount percentage\n",
        "average_discount_by_category = amazon_data.groupby('category')['discount_percentage'].mean()\n",
        "\n",
        "# Display the result\n",
        "print(\"Average Discount Percentage by Category:\")\n",
        "print(average_discount_by_category)\n",
        "\n",
        "# Visualization (optional)\n",
        "plt.figure(figsize=(12, 6))\n",
        "sns.barplot(x=average_discount_by_category.index, y=average_discount_by_category.values)\n",
        "plt.xlabel('Category')\n",
        "plt.ylabel('Average Discount Percentage')\n",
        "plt.title('Average Discount Percentage Across Categories')\n",
        "plt.xticks(rotation=45, ha='right')\n",
        "plt.show()"
      ],
      "metadata": {
        "id": "i9zith4t3D--"
      },
      "execution_count": null,
      "outputs": []
    },
    {
      "cell_type": "code",
      "source": [
        "# Q5.  What are the most popular product names?\n",
        "\n",
        "# Calculate the frequency of each product name\n",
        "product_name_counts = amazon_data['product_name'].value_counts()\n",
        "\n",
        "# Display the most popular product names (e.g., top 10)\n",
        "print(\"Most Popular Product Names:\")\n",
        "print(product_name_counts.head(10))\n",
        "\n",
        "# Visualization (optional) - Bar plot of top 10 product names\n",
        "plt.figure(figsize=(12, 6))\n",
        "sns.barplot(x=product_name_counts.head(10).index, y=product_name_counts.head(10).values)\n",
        "plt.xlabel('Product Name')\n",
        "plt.ylabel('Frequency')\n",
        "plt.title('Top 10 Most Popular Product Names')\n",
        "plt.xticks(rotation=45, ha='right')\n",
        "plt.show()"
      ],
      "metadata": {
        "id": "NXudxJ3_3UqP"
      },
      "execution_count": null,
      "outputs": []
    },
    {
      "cell_type": "code",
      "source": [
        "# Q6. What are the most popular product keywords?\n",
        "\n",
        "# Assuming 'product_name' contains keywords, you can extract them and count their frequency.\n",
        "from collections import Counter\n",
        "\n",
        "def extract_keywords(product_name):\n",
        "    # Basic keyword extraction (you can refine this based on your needs)\n",
        "    keywords = product_name.lower().split()  # Split the name into words\n",
        "    return keywords\n",
        "\n",
        "# Create a list to hold all keywords\n",
        "all_keywords = []\n",
        "\n",
        "for product_name in amazon_data['product_name']:\n",
        "    keywords = extract_keywords(product_name)\n",
        "    all_keywords.extend(keywords)\n",
        "\n",
        "# Count the frequency of each keyword\n",
        "keyword_counts = Counter(all_keywords)\n",
        "\n",
        "# Get the most common keywords (e.g., top 10)\n",
        "most_common_keywords = keyword_counts.most_common(10)\n",
        "\n",
        "# Check if most_common_keywords is empty before unpacking\n",
        "if most_common_keywords:\n",
        "    print(\"Most Popular Product Keywords:\")\n",
        "    for keyword, count in most_common_keywords:\n",
        "        print(f\"{keyword}: {count}\")\n",
        "\n",
        "    # Visualization (optional) - Bar plot of top 10 keywords\n",
        "    plt.figure(figsize=(12, 6))\n",
        "    keywords, counts = zip(*most_common_keywords)  # Separate keywords and counts for plotting\n",
        "    sns.barplot(x=list(keywords), y=list(counts))\n",
        "    plt.xlabel('Keywords')\n",
        "    plt.ylabel('Frequency')\n",
        "    plt.title('Top 10 Most Popular Product Keywords')\n",
        "    plt.xticks(rotation=45, ha='right')\n",
        "    plt.show()\n",
        "else:\n",
        "    print(\"No common keywords found in product names.\")"
      ],
      "metadata": {
        "id": "BXMKDbUl3f0q"
      },
      "execution_count": null,
      "outputs": []
    },
    {
      "cell_type": "code",
      "source": [
        "# Q7. What are the most popular product reviews?\n",
        "\n",
        "# Assuming 'review_title' is a column in your amazon_data DataFrame.\n",
        "# If not, replace 'review_title' with the actual column name.\n",
        "\n",
        "popular_reviews = amazon_data['review_title'].value_counts()\n",
        "\n",
        "print(\"Most Popular Product Review Titles:\")\n",
        "print(popular_reviews.head(10))  # Display the top 10 most popular review titles\n",
        "\n",
        "# Visualization (optional) - Bar plot of top 10 review titles\n",
        "plt.figure(figsize=(12, 6))\n",
        "sns.barplot(x=popular_reviews.head(10).index, y=popular_reviews.head(10).values)\n",
        "plt.xlabel('Review Title')\n",
        "plt.ylabel('Frequency')\n",
        "plt.title('Top 10 Most Popular Product Review Titles')\n",
        "plt.xticks(rotation=45, ha='right')\n",
        "plt.show()"
      ],
      "metadata": {
        "id": "WmM3Pj8Q3w-_"
      },
      "execution_count": null,
      "outputs": []
    },
    {
      "cell_type": "code",
      "source": [
        "# Q8.  What is the correlation between discounted_price and rating?\n",
        "\n",
        "# Calculate the correlation between 'discounted_price' and 'rating'\n",
        "correlation = amazon_data['discounted_price'].corr(amazon_data['rating'])\n",
        "\n",
        "print(f\"The correlation between discounted_price and rating is: {correlation}\")\n"
      ],
      "metadata": {
        "id": "vyOH24dO38OJ"
      },
      "execution_count": null,
      "outputs": []
    },
    {
      "cell_type": "code",
      "source": [
        "# Q9. ' What are the Top 5 categories based on the highest ratings?\n",
        "\n",
        "# Sort categories by average rating in descending order and get the top 5\n",
        "top_5_categories = avg_rating_per_category.sort_values(ascending=False).head(5)\n",
        "\n",
        "print(\"Top 5 categories based on the highest ratings:\")\n",
        "top_5_categories"
      ],
      "metadata": {
        "id": "1I0X_mGl4PsP"
      },
      "execution_count": null,
      "outputs": []
    },
    {
      "cell_type": "markdown",
      "source": [
        "Q10. ' Identify any potential areas for improvement or optimization based on the data analysis?\n",
        "\n",
        "-  Potential areas for improvement and optimization:\n",
        "\n",
        "1. Data Cleaning and Preprocessing:\n",
        "\n",
        "- Handle missing values more effectively. Instead of dropping rows with missing prices, consider imputation techniques (e.g., mean, median, or more sophisticated methods) to retain more data.\n",
        "- Investigate the meaning of '0' values in numerical columns (e.g. 'Annual Income', 'Price', 'Engine Size') and decide on the best way to handle them.\n",
        "- Inconsistent data formats may exist in some fields, such as dates or prices. Ensure consistency with type conversion and formatting.\n",
        "\n",
        "2. Feature Engineering:\n",
        "\n",
        "- Create new features that capture important information not explicitly represented in the data. For example, derived features such as \"Price per Horsepower,\" \"Discount Percentage,\" or \"Age of the Car\" can improve analysis.\n",
        "- Explore creating interaction terms in the correlation analysis (e.g., 'Engine_Size' * 'Annual Income').\n",
        "- Binning numerical data ('Annual Income') to create meaningful categories may reveal additional insights.\n",
        "3. Visualization Enhancements:\n",
        "\n",
        "- Use more informative plot types when appropriate. For example, consider using scatter plots to examine the relationship between continuous variables instead of just heatmaps.\n",
        "- Improve the readability of visualizations by using clear labels, titles, and legends.\n",
        "- Explore more advanced visualizations like interactive plots for better exploration and communication of findings.\n",
        "4. Statistical Analysis:\n",
        "\n",
        "- Perform more detailed statistical tests beyond correlation analysis, such as t-tests or ANOVA, to validate hypotheses about relationships between variables.\n",
        "- Conduct hypothesis testing to test assumptions before drawing conclusions.\n",
        "5. Model Building (If applicable):\n",
        "\n",
        "- If you plan to build predictive models, carefully select appropriate models and features, and evaluate their performance rigorously.\n",
        "- Consider feature scaling and encoding when applying machine learning algorithms.\n",
        "- Optimize model hyperparameters for better accuracy and generalization.\n",
        "\n",
        "6. Keyword Extraction Refinement:\n",
        "\n",
        "- Use more robust keyword extraction techniques beyond simple splitting. Natural language processing (NLP) techniques can lead to better keyword identification.\n",
        "\n",
        "7. Robustness of encoding:\n",
        "\n",
        "- LabelEncoder's application should be handled cautiously. Explore OneHotEncoding or other encoding methods, especially when dealing with features that do not necessarily represent any ordinal relationship.\n",
        "\n",
        "8. Data Exploration Depth:\n",
        "\n",
        "- Dive deeper into the unique values of categorical columns and their distribution in relation to the target variable (e.g., 'Price').\n",
        "- Segment the data into relevant groups (e.g., by 'Region', 'Model') for more detailed analyses.\n",
        "\n",
        "9. Documentation:\n",
        "\n",
        "- Include detailed explanations of the steps and rationale behind the data cleaning, feature engineering, and analysis. This improves code clarity and facilitates collaboration.\n",
        "\n",
        "10. Code Structure:\n",
        "\n",
        "- Modularize the code into reusable functions for improved readability and maintainability.\n",
        "\n",
        "\n",
        "By addressing these potential areas for improvement, you can gain a deeper understanding of the data, improve model accuracy (if applicable), and enhance the insights derived from the analysis."
      ],
      "metadata": {
        "id": "epBrGSYo4sDE"
      }
    },
    {
      "cell_type": "markdown",
      "source": [
        "# **EDA 4- SPOTIFY DATASET**"
      ],
      "metadata": {
        "id": "_miuyhE06EAl"
      }
    },
    {
      "cell_type": "code",
      "source": [
        "# Load Spotify Data\n",
        "spotify_data_url = \"https://drive.google.com/uc?id=1JVgy2yXUOREkzRdCeWjep626uvvF94pP\"\n",
        "spotify_data = pd.read_csv(spotify_data_url)\n",
        "\n",
        "# Display dataset info\n",
        "spotify_data.info()\n",
        "spotify_data.head()\n"
      ],
      "metadata": {
        "id": "uU4tu7rE8hZr"
      },
      "execution_count": null,
      "outputs": []
    },
    {
      "cell_type": "code",
      "source": [
        "# Q1. Read the dataframe, check null value if present then do the needful, check duplicate row , if present then do the needful?\n",
        "\n",
        "# Check for null values\n",
        "print(spotify_data.isnull().sum())\n",
        "\n",
        "# Handle null values (example: fill with 0)\n",
        "spotify_data.fillna(0, inplace=True)\n",
        "\n",
        "# Check for duplicate rows\n",
        "duplicate_rows = spotify_data[spotify_data.duplicated()]\n",
        "print(f\"Number of duplicate rows: {len(duplicate_rows)}\")\n",
        "\n",
        "# Handle duplicate rows (example: remove duplicates)\n",
        "spotify_data.drop_duplicates(inplace=True)\n"
      ],
      "metadata": {
        "id": "S_gnmlyP8lcU"
      },
      "execution_count": null,
      "outputs": []
    },
    {
      "cell_type": "code",
      "source": [
        "# Q2. What is the distribution of popularity among the tracks in the dataset? Visualize it using a histogram?\n",
        "\n",
        "# Calculate the frequency of each popularity value\n",
        "popularity_counts = spotify_data['Popularity'].value_counts()\n",
        "\n",
        "# Create the histogram\n",
        "plt.figure(figsize=(10, 6))\n",
        "plt.hist(spotify_data['Popularity'], bins=20, edgecolor='black')  # Changed 'popularity' to 'Popularity'\n",
        "plt.xlabel('Popularity')\n",
        "plt.ylabel('Number of Tracks')\n",
        "plt.title('Distribution of Track Popularity')\n",
        "plt.show()"
      ],
      "metadata": {
        "id": "8wC2x0-L85YA"
      },
      "execution_count": null,
      "outputs": []
    },
    {
      "cell_type": "code",
      "source": [
        "# Q3. Is there any relationship between the popularity and the duration of tracks? Explore this using a scatter plot?\n",
        "\n",
        "# Create the scatter plot\n",
        "plt.figure(figsize=(10, 6))\n",
        "plt.scatter(spotify_data['Popularity'], spotify_data['Duration (ms)'], alpha=0.5)\n",
        "plt.xlabel('Popularity')\n",
        "plt.ylabel('Duration (ms)')\n",
        "plt.title('Relationship between Popularity and Duration of Tracks')\n",
        "plt.show()"
      ],
      "metadata": {
        "id": "DIfvJYM39BeG"
      },
      "execution_count": null,
      "outputs": []
    },
    {
      "cell_type": "code",
      "source": [
        "# Q4. Which artist has the highest number of tracks in the dataset? Display the count of tracks for each artist using a countplot.?\n",
        "\n",
        "# Calculate the number of tracks for each artist\n",
        "artist_track_counts = spotify_data['Artist'].value_counts()\n",
        "\n",
        "# Find the artist with the highest number of tracks\n",
        "artist_with_highest_tracks = artist_track_counts.index[0]\n",
        "highest_track_count = artist_track_counts.iloc[0]\n",
        "\n",
        "print(f\"The artist with the highest number of tracks is {artist_with_highest_tracks} with {highest_track_count} tracks.\")\n",
        "\n",
        "# Create the countplot\n",
        "plt.figure(figsize=(12, 6))\n",
        "sns.countplot(x='Artist', data=spotify_data, order=artist_track_counts.index)\n",
        "plt.xlabel('Artist')\n",
        "plt.ylabel('Number of Tracks')\n",
        "plt.title('Number of Tracks per Artist')\n",
        "plt.xticks(rotation=90)  # Rotate x-axis labels for better readability\n",
        "plt.show()"
      ],
      "metadata": {
        "id": "hYO9VATq9JiL"
      },
      "execution_count": null,
      "outputs": []
    },
    {
      "cell_type": "code",
      "source": [
        "# Q5. What are the top 5 least popular tracks in the dataset? Provide the artist name and track name for each.?\n",
        "\n",
        "# Sort the DataFrame by popularity in ascending order and get the top 5\n",
        "least_popular_tracks = spotify_data.sort_values(by='Popularity').head(5)\n",
        "\n",
        "# Display the artist name and track name for the least popular tracks\n",
        "print(\"Top 5 Least Popular Tracks:\")\n",
        "print(least_popular_tracks[['Artist', 'Track Name']])"
      ],
      "metadata": {
        "id": "Mm4QxkRS9U4e"
      },
      "execution_count": null,
      "outputs": []
    },
    {
      "cell_type": "code",
      "source": [
        "# Q6.  Among the top 5 most popular artists, which artist has the highest popularity on average? Calculate and display the average popularity for each artist.\n",
        "\n",
        "# Find the top 5 most popular artists\n",
        "top_5_artists = spotify_data['Artist'].value_counts().head(5).index\n",
        "\n",
        "# Calculate the average popularity for each of the top 5 artists\n",
        "average_popularity_by_artist = {}\n",
        "for artist in top_5_artists:\n",
        "    artist_data = spotify_data[spotify_data['Artist'] == artist]\n",
        "    average_popularity = artist_data['Popularity'].mean()\n",
        "    average_popularity_by_artist[artist] = average_popularity\n",
        "\n",
        "# Find the artist with the highest average popularity among the top 5\n",
        "artist_with_highest_avg_popularity = max(average_popularity_by_artist, key=average_popularity_by_artist.get)\n",
        "highest_average_popularity = average_popularity_by_artist[artist_with_highest_avg_popularity]\n",
        "\n",
        "# Display the results\n",
        "print(\"Average Popularity for Top 5 Artists:\")\n",
        "for artist, avg_popularity in average_popularity_by_artist.items():\n",
        "    print(f\"{artist}: {avg_popularity}\")\n",
        "\n",
        "print(f\"\\nThe artist with the highest average popularity among the top 5 is {artist_with_highest_avg_popularity} with an average popularity of {highest_average_popularity}\")"
      ],
      "metadata": {
        "id": "r014_C4y9cfX"
      },
      "execution_count": null,
      "outputs": []
    },
    {
      "cell_type": "code",
      "source": [
        "# Q7. For the top 5 most popular artists, what are their most popular tracks? List the track name for each artist.\n",
        "\n",
        "# Find the top 5 most popular artists\n",
        "top_5_artists = spotify_data['Artist'].value_counts().head(5).index\n",
        "\n",
        "# Iterate through the top 5 artists and find their most popular track\n",
        "for artist in top_5_artists:\n",
        "    artist_data = spotify_data[spotify_data['Artist'] == artist]\n",
        "    most_popular_track = artist_data.loc[artist_data['Popularity'].idxmax()]\n",
        "    print(f\"Artist: {artist}, Most Popular Track: {most_popular_track['Track Name']}\")"
      ],
      "metadata": {
        "id": "9O8qamCA9liJ"
      },
      "execution_count": null,
      "outputs": []
    },
    {
      "cell_type": "code",
      "source": [
        "# Q8.  Visualize relationships between multiple numerical variables simultaneously using a pair plot.\n",
        "\n",
        "# Create a pair plot for numerical variables in the spotify_data DataFrame.\n",
        "numerical_cols = spotify_data.select_dtypes(include=np.number).columns\n",
        "sns.pairplot(spotify_data[numerical_cols])\n",
        "plt.show()"
      ],
      "metadata": {
        "id": "isfrvGjb9vKd"
      },
      "execution_count": null,
      "outputs": []
    },
    {
      "cell_type": "code",
      "source": [
        "# Q9. Does the duration of tracks vary significantly across different artists? Explore this visually using a box plot or violin plot.?\n",
        "\n",
        "# Create the box plot\n",
        "plt.figure(figsize=(12, 6))\n",
        "sns.boxplot(x='Artist', y='Duration (ms)', data=spotify_data)\n",
        "plt.xlabel('Artist')\n",
        "plt.ylabel('Duration (ms)')\n",
        "plt.title('Duration of Tracks Across Different Artists (Box Plot)')\n",
        "plt.xticks(rotation=90)\n",
        "plt.show()\n",
        "\n",
        "# Create the violin plot\n",
        "plt.figure(figsize=(12, 6))\n",
        "sns.violinplot(x='Artist', y='Duration (ms)', data=spotify_data)\n",
        "plt.xlabel('Artist')\n",
        "plt.ylabel('Duration (ms)')\n",
        "plt.title('Duration of Tracks Across Different Artists (Violin Plot)')\n",
        "plt.xticks(rotation=90)\n",
        "plt.show()"
      ],
      "metadata": {
        "id": "8yn549mE92dW"
      },
      "execution_count": null,
      "outputs": []
    },
    {
      "cell_type": "code",
      "source": [
        "# Q10. How does the distribution of track popularity vary for different artists? Visualize this using a swarm plot or a violin plot.?\n",
        "\n",
        "# Create the swarm plot\n",
        "plt.figure(figsize=(12, 6))\n",
        "sns.swarmplot(x='Artist', y='Popularity', data=spotify_data)\n",
        "plt.xlabel('Artist')\n",
        "plt.ylabel('Popularity')\n",
        "plt.title('Distribution of Track Popularity Across Different Artists (Swarm Plot)')\n",
        "plt.xticks(rotation=90)\n",
        "plt.show()\n",
        "\n",
        "# Create the violin plot\n",
        "plt.figure(figsize=(12, 6))\n",
        "sns.violinplot(x='Artist', y='Popularity', data=spotify_data)\n",
        "plt.xlabel('Artist')\n",
        "plt.ylabel('Popularity')\n",
        "plt.title('Distribution of Track Popularity Across Different Artists (Violin Plot)')\n",
        "plt.xticks(rotation=90)\n",
        "plt.show()"
      ],
      "metadata": {
        "id": "EXYZg5CD-BEP"
      },
      "execution_count": null,
      "outputs": []
    }
  ]
}